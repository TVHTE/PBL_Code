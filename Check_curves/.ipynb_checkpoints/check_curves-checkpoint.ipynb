{
 "cells": [
  {
   "cell_type": "code",
   "execution_count": null,
   "metadata": {},
   "outputs": [],
   "source": [
    "import pandas as pd\n",
    "import matplotlib.pyplot as plt\n",
    "\n",
    "df_cubic = pd.read_table('C:/Users/toonv/Documents/PBL/Data/cost curves/costcurve_co2_cubic.dat',\n",
    "                          skiprows = [0,1,2], sep = ',', names = list(range(1,27)), index_col=False)\n",
    "\n",
    "df_cubicroot = pd.read_table('C:/Users/toonv/Documents/PBL/Data/cost curves/costcurve_co2_cubicroot.dat',\n",
    "                          skiprows = [0,1,2], sep = ',', names = list(range(1,27)), index_col=False)\n",
    "\n",
    "df_linear = pd.read_table('C:/Users/toonv/Documents/PBL/Data/cost curves/costcurve_co2_linear.dat',\n",
    "                          skiprows = [0,1,2], sep = ',', names = list(range(1,27)), index_col=False)\n",
    "\n",
    "def plot_curves(df, plot_title):\n",
    "    \n",
    "    year_index = []\n",
    "    start_year = 2020\n",
    "\n",
    "    for i in range (10, 90, 10):\n",
    "\n",
    "        cur_year = start_year + i\n",
    "\n",
    "        cur_index = df.index[cubic_root[1] == cur_year].tolist()\n",
    "\n",
    "#         print(cur_index[0])\n",
    "\n",
    "        year_index.append(cur_index[0])\n",
    "\n",
    "    df_2030 = df[year_index[0]+1:year_index[1]]\n",
    "    \n",
    "    df_2030 = pd.DataFrame(df_2030)\n",
    "\n",
    "    fig, ax = plt.subplots()\n",
    "\n",
    "    for i in range(1, len(df.columns)):\n",
    "\n",
    "        ax.plot(df_2030[i], range(0,201))\n",
    "\n",
    "    ax.set(title='cost curves 2030 all countries ' + plot_title)\n",
    "    \n",
    "    \n",
    "plot_curves(df_cubic, 'cubic')\n",
    "plot_curves(df_cubicroot, 'cubicroot')\n",
    "plot_curves(df_linear, 'linear')"
   ]
  },
  {
   "cell_type": "code",
   "execution_count": 3,
   "metadata": {},
   "outputs": [
    {
     "ename": "NameError",
     "evalue": "name 'cubic_root' is not defined",
     "output_type": "error",
     "traceback": [
      "\u001b[1;31m---------------------------------------------------------------------------\u001b[0m",
      "\u001b[1;31mNameError\u001b[0m                                 Traceback (most recent call last)",
      "\u001b[1;32m<ipython-input-3-c2818bb1d841>\u001b[0m in \u001b[0;36m<module>\u001b[1;34m\u001b[0m\n\u001b[0;32m     30\u001b[0m     \u001b[1;32mreturn\u001b[0m \u001b[0mdf_cur\u001b[0m\u001b[1;33m\u001b[0m\u001b[1;33m\u001b[0m\u001b[0m\n\u001b[0;32m     31\u001b[0m \u001b[1;33m\u001b[0m\u001b[0m\n\u001b[1;32m---> 32\u001b[1;33m \u001b[0mdf_2040\u001b[0m \u001b[1;33m=\u001b[0m \u001b[0mplot_curves_year\u001b[0m\u001b[1;33m(\u001b[0m\u001b[0mdf_cubic\u001b[0m\u001b[1;33m,\u001b[0m \u001b[1;34m'cubic'\u001b[0m\u001b[1;33m,\u001b[0m \u001b[1;36m2040\u001b[0m\u001b[1;33m,\u001b[0m \u001b[1;33m[\u001b[0m\u001b[1;36m26\u001b[0m\u001b[1;33m,\u001b[0m\u001b[1;36m13\u001b[0m\u001b[1;33m,\u001b[0m\u001b[1;36m5\u001b[0m\u001b[1;33m]\u001b[0m\u001b[1;33m)\u001b[0m\u001b[1;33m\u001b[0m\u001b[1;33m\u001b[0m\u001b[0m\n\u001b[0m\u001b[0;32m     33\u001b[0m \u001b[1;33m\u001b[0m\u001b[0m\n\u001b[0;32m     34\u001b[0m \u001b[0mdf_world_1\u001b[0m \u001b[1;33m=\u001b[0m \u001b[0mplot_curves_year\u001b[0m\u001b[1;33m(\u001b[0m\u001b[0mdf_cubic\u001b[0m\u001b[1;33m,\u001b[0m \u001b[1;34m'cubic'\u001b[0m\u001b[1;33m,\u001b[0m \u001b[1;36m2040\u001b[0m\u001b[1;33m,\u001b[0m \u001b[1;33m[\u001b[0m\u001b[1;36m26\u001b[0m\u001b[1;33m]\u001b[0m\u001b[1;33m)\u001b[0m\u001b[1;33m\u001b[0m\u001b[1;33m\u001b[0m\u001b[0m\n",
      "\u001b[1;32m<ipython-input-3-c2818bb1d841>\u001b[0m in \u001b[0;36mplot_curves_year\u001b[1;34m(df, plot_title, year, regions)\u001b[0m\n\u001b[0;32m     10\u001b[0m     \u001b[1;32mfor\u001b[0m \u001b[0mi\u001b[0m \u001b[1;32min\u001b[0m \u001b[0mrange\u001b[0m\u001b[1;33m(\u001b[0m\u001b[1;36m0\u001b[0m\u001b[1;33m,\u001b[0m \u001b[1;36m20\u001b[0m\u001b[1;33m,\u001b[0m \u001b[1;36m10\u001b[0m\u001b[1;33m)\u001b[0m\u001b[1;33m:\u001b[0m\u001b[1;33m\u001b[0m\u001b[1;33m\u001b[0m\u001b[0m\n\u001b[0;32m     11\u001b[0m \u001b[1;33m\u001b[0m\u001b[0m\n\u001b[1;32m---> 12\u001b[1;33m         \u001b[0mcur_index\u001b[0m \u001b[1;33m=\u001b[0m \u001b[0mdf\u001b[0m\u001b[1;33m.\u001b[0m\u001b[0mindex\u001b[0m\u001b[1;33m[\u001b[0m\u001b[0mcubic_root\u001b[0m\u001b[1;33m[\u001b[0m\u001b[1;36m1\u001b[0m\u001b[1;33m]\u001b[0m \u001b[1;33m==\u001b[0m \u001b[0myear\u001b[0m \u001b[1;33m+\u001b[0m \u001b[0mi\u001b[0m\u001b[1;33m]\u001b[0m\u001b[1;33m.\u001b[0m\u001b[0mtolist\u001b[0m\u001b[1;33m(\u001b[0m\u001b[1;33m)\u001b[0m\u001b[1;33m\u001b[0m\u001b[1;33m\u001b[0m\u001b[0m\n\u001b[0m\u001b[0;32m     13\u001b[0m \u001b[1;33m\u001b[0m\u001b[0m\n\u001b[0;32m     14\u001b[0m         \u001b[0myear_index\u001b[0m\u001b[1;33m.\u001b[0m\u001b[0mappend\u001b[0m\u001b[1;33m(\u001b[0m\u001b[0mcur_index\u001b[0m\u001b[1;33m[\u001b[0m\u001b[1;36m0\u001b[0m\u001b[1;33m]\u001b[0m\u001b[1;33m)\u001b[0m\u001b[1;33m\u001b[0m\u001b[1;33m\u001b[0m\u001b[0m\n",
      "\u001b[1;31mNameError\u001b[0m: name 'cubic_root' is not defined"
     ]
    }
   ],
   "source": [
    "# df is the dataframe to be used (cubic, cubicroot, linear)\n",
    "# plot_title, the title name (string)\n",
    "# year which year should be plotted (int)\n",
    "# regions is list like input ranging from 1:26 (int, list)\n",
    "\n",
    "def plot_curves_year(df, plot_title, year, regions):\n",
    "    \n",
    "    year_index = []\n",
    "\n",
    "    for i in range(0, 20, 10):\n",
    "    \n",
    "        cur_index = df.index[cubic_root[1] == year + i].tolist()\n",
    "\n",
    "        year_index.append(cur_index[0])\n",
    "            \n",
    "    df_cur = df[year_index[0]+1:year_index[1]]\n",
    "    \n",
    "    df_cur = df_cur[regions]\n",
    "    \n",
    "    df_cur = pd.DataFrame(df_cur)\n",
    "\n",
    "    fig, ax = plt.subplots()\n",
    "\n",
    "    ax.plot(df_cur, range(0,201))\n",
    "\n",
    "    ax.set(title='cost curves region(s) '+ str(regions) + ' ' + plot_title + ' ' + str(year))\n",
    "    \n",
    "    ax.legend(df_cur.columns)\n",
    "    \n",
    "    return df_cur\n",
    "    \n",
    "df_2040 = plot_curves_year(df_cubic, 'cubic', 2040, [26,13,5])\n",
    "\n",
    "df_world_1 = plot_curves_year(df_cubic, 'cubic', 2040, [26])\n",
    "df_world_2 = plot_curves_year(df_cubic, 'cubic', 2050, [26])\n",
    "df_world_3 = plot_curves_year(df_cubic, 'cubic', 2060, [26])\n"
   ]
  },
  {
   "cell_type": "code",
   "execution_count": 1,
   "metadata": {},
   "outputs": [
    {
     "ename": "NameError",
     "evalue": "name 'df_linear' is not defined",
     "output_type": "error",
     "traceback": [
      "\u001b[1;31m---------------------------------------------------------------------------\u001b[0m",
      "\u001b[1;31mNameError\u001b[0m                                 Traceback (most recent call last)",
      "\u001b[1;32m<ipython-input-1-bade994fb11e>\u001b[0m in \u001b[0;36m<module>\u001b[1;34m\u001b[0m\n\u001b[1;32m----> 1\u001b[1;33m \u001b[0mdf_linear\u001b[0m\u001b[1;33m\u001b[0m\u001b[1;33m\u001b[0m\u001b[0m\n\u001b[0m",
      "\u001b[1;31mNameError\u001b[0m: name 'df_linear' is not defined"
     ]
    }
   ],
   "source": [
    "df_linear"
   ]
  }
 ],
 "metadata": {
  "kernelspec": {
   "display_name": "Python 3",
   "language": "python",
   "name": "python3"
  },
  "language_info": {
   "codemirror_mode": {
    "name": "ipython",
    "version": 3
   },
   "file_extension": ".py",
   "mimetype": "text/x-python",
   "name": "python",
   "nbconvert_exporter": "python",
   "pygments_lexer": "ipython3",
   "version": "3.7.1"
  }
 },
 "nbformat": 4,
 "nbformat_minor": 4
}
