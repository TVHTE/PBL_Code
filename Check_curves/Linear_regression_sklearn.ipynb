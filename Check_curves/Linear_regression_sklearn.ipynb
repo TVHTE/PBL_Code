{
 "cells": [
  {
   "cell_type": "code",
   "execution_count": 12,
   "metadata": {},
   "outputs": [
    {
     "name": "stdout",
     "output_type": "stream",
     "text": [
      "USD\n",
      "0        0.0000\n",
      "20       9.1630\n",
      "40       9.7058\n",
      "60      10.2579\n",
      "80      10.8145\n",
      "         ...   \n",
      "3920    66.5592\n",
      "3940    66.5602\n",
      "3960    66.5612\n",
      "3980    66.5622\n",
      "4000    66.5632\n",
      "Name: 11, Length: 201, dtype: float64\n"
     ]
    }
   ],
   "source": [
    "# load data\n",
    "import numpy as np\n",
    "import pandas as pd\n",
    "\n",
    "df_11_SSP1 = pd.read_csv('C:/Users/toonv/Documents/PBL/Code/CSV/SSP1_11.csv')\n",
    "\n",
    "# curve fitting\n",
    "\n",
    "index = list(range(0,4020,20))\n",
    "\n",
    "df_11_SSP1['USD'] = index\n",
    "        \n",
    "df_11_SSP1.set_index('USD', inplace=True, drop=True)\n",
    "\n",
    "df_11_SSP1.drop(index=0)\n",
    "\n",
    "print(df_11_SSP1['11'])"
   ]
  },
  {
   "cell_type": "code",
   "execution_count": 13,
   "metadata": {},
   "outputs": [
    {
     "name": "stdout",
     "output_type": "stream",
     "text": [
      "Coefficients: \n",
      " [0.01411494]\n",
      "Mean squared error: 171.33\n",
      "Coefficient of determination: -10962.29\n"
     ]
    },
    {
     "data": {
      "image/png": "[encoded data removed]",
      "text/plain": [
       "<Figure size 432x288 with 1 Axes>"
      ]
     },
     "metadata": {},
     "output_type": "display_data"
    }
   ],
   "source": [
    "import matplotlib.pyplot as plt\n",
    "from sklearn import datasets, linear_model\n",
    "from sklearn.metrics import mean_squared_error, r2_score\n",
    "\n",
    "# Load the diabetes dataset\n",
    "costs = list(range(0,4020,20))\n",
    "reduction = df_11_SSP1['11'].values\n",
    "\n",
    "# Use only one feature\n",
    "# costs = costs[:, np.newaxis, 2]\n",
    "\n",
    "costs_list = []\n",
    "\n",
    "for cost in costs:\n",
    "    costs_list.append([cost])\n",
    "    \n",
    "costs = costs_list\n",
    "\n",
    "# Split the data into training/testing sets\n",
    "costs_train = costs[:-20]\n",
    "costs_test = costs[-20:]\n",
    "\n",
    "# Split the targets into training/testing sets\n",
    "reduction_train = reduction[:-20]\n",
    "reduction_test = reduction[-20:]\n",
    "\n",
    "# Create linear regression object\n",
    "regr = linear_model.LinearRegression()\n",
    "\n",
    "# Train the model using the training sets\n",
    "regr.fit(costs_train, reduction_train)\n",
    "\n",
    "# Make predictions using the testing set\n",
    "reduction_pred = regr.predict(costs_test)\n",
    "\n",
    "# The coefficients\n",
    "print('Coefficients: \\n', regr.coef_)\n",
    "# The mean squared error\n",
    "print('Mean squared error: %.2f'\n",
    "      % mean_squared_error(reduction_test, reduction_pred))\n",
    "# The coefficient of determination: 1 is perfect prediction\n",
    "print('Coefficient of determination: %.2f'\n",
    "      % r2_score(reduction_test, reduction_pred))\n",
    "\n",
    "# Plot outputs\n",
    "plt.scatter(costs_test, reduction_test,  color='black')\n",
    "plt.plot(costs_test, reduction_pred, color='blue', linewidth=3)\n",
    "\n",
    "plt.xticks(())\n",
    "plt.yticks(())\n",
    "\n",
    "plt.show()"
   ]
  },
  {
   "cell_type": "code",
   "execution_count": null,
   "metadata": {},
   "outputs": [],
   "source": [
    "## Voorbeeld\n",
    "\n",
    "# Code source: Jaques Grobler\n",
    "# License: BSD 3 clause\n",
    "\n",
    "\n",
    "import matplotlib.pyplot as plt\n",
    "import numpy as np\n",
    "from sklearn import datasets, linear_model\n",
    "from sklearn.metrics import mean_squared_error, r2_score\n",
    "\n",
    "# Load the diabetes dataset\n",
    "diabetes_X, diabetes_y = datasets.load_diabetes(return_X_y=True)\n",
    "\n",
    "# Use only one feature\n",
    "diabetes_X = diabetes_X[:, np.newaxis, 2]\n",
    "\n",
    "# Split the data into training/testing sets\n",
    "diabetes_X_train = diabetes_X[:-20]\n",
    "diabetes_X_test = diabetes_X[-20:]\n",
    "\n",
    "# Split the targets into training/testing sets\n",
    "diabetes_y_train = diabetes_y[:-20]\n",
    "diabetes_y_test = diabetes_y[-20:]\n",
    "\n",
    "# Create linear regression object\n",
    "regr = linear_model.LinearRegression()\n",
    "\n",
    "# Train the model using the training sets\n",
    "regr.fit(diabetes_X_train, diabetes_y_train)\n",
    "\n",
    "# Make predictions using the testing set\n",
    "diabetes_y_pred = regr.predict(diabetes_X_test)\n",
    "\n",
    "# The coefficients\n",
    "print('Coefficients: \\n', regr.coef_)\n",
    "# The mean squared error\n",
    "print('Mean squared error: %.2f'\n",
    "      % mean_squared_error(diabetes_y_test, diabetes_y_pred))\n",
    "# The coefficient of determination: 1 is perfect prediction\n",
    "print('Coefficient of determination: %.2f'\n",
    "      % r2_score(diabetes_y_test, diabetes_y_pred))\n",
    "\n",
    "# Plot outputs\n",
    "plt.scatter(diabetes_X_test, diabetes_y_test,  color='black')\n",
    "plt.plot(diabetes_X_test, diabetes_y_pred, color='blue', linewidth=3)\n",
    "\n",
    "plt.xticks(())\n",
    "plt.yticks(())\n",
    "\n",
    "plt.show()"
   ]
  }
 ],
 "metadata": {
  "kernelspec": {
   "display_name": "Python 3",
   "language": "python",
   "name": "python3"
  },
  "language_info": {
   "codemirror_mode": {
    "name": "ipython",
    "version": 3
   },
   "file_extension": ".py",
   "mimetype": "text/x-python",
   "name": "python",
   "nbconvert_exporter": "python",
   "pygments_lexer": "ipython3",
   "version": "3.7.1"
  }
 },
 "nbformat": 4,
 "nbformat_minor": 4
}
