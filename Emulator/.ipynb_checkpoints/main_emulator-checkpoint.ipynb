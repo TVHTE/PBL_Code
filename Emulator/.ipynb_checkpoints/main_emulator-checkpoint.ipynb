{
 "cells": [
  {
   "cell_type": "code",
   "execution_count": 596,
   "id": "adaptive-surgery",
   "metadata": {},
   "outputs": [
    {
     "data": {
      "text/plain": [
       "['__builtins__',\n",
       " '__cached__',\n",
       " '__doc__',\n",
       " '__file__',\n",
       " '__loader__',\n",
       " '__name__',\n",
       " '__package__',\n",
       " '__spec__',\n",
       " 'colors',\n",
       " 'combine_azure_ctax',\n",
       " 'np',\n",
       " 'os',\n",
       " 'output_costs_timer',\n",
       " 'pd',\n",
       " 'plot_MAC',\n",
       " 'plt',\n",
       " 'prepare_data',\n",
       " 'pym',\n",
       " 'truncate_colormap',\n",
       " 'world_MAC_data',\n",
       " 'world_emulator_data']"
      ]
     },
     "execution_count": 596,
     "metadata": {},
     "output_type": "execute_result"
    }
   ],
   "source": [
    "\"\"\"\n",
    "import modules\n",
    "\"\"\"\n",
    "\n",
    "from prepare_data import prepare_df_from_mac_5_year as prepare_CCL\n",
    "from prepare_data import prepare_paths as prepare_paths\n",
    "from emulate_reduction import emulator_v6 as emulate\n",
    "from visualize_output import vis_emulator_v1 as v1_plot\n",
    "from pym import pym\n",
    "\n",
    "import pandas as pd\n",
    "import numpy as np\n",
    "import matplotlib.pyplot as plt\n",
    "from importlib import reload\n",
    "import os\n",
    "\n",
    "dir(prepare_paths)"
   ]
  },
  {
   "cell_type": "code",
   "execution_count": 3,
   "id": "helpful-stick",
   "metadata": {},
   "outputs": [],
   "source": [
    "\"\"\"\n",
    "load data (cubic cubicroot linear and IAMC)\n",
    "\"\"\"\n",
    "\n",
    "PATH = 'C:/Users/toonv/Documents/PBL/Data/cost curves/'\n",
    "PATH_IAMC = 'C:/Users/toonv/Documents/PBL/Data/IAMC_paths/'\n",
    "PATH_IAMC_MYM = 'C:/Users/toonv/Documents/PBL/Data/IAMC_paths_mym/'\n",
    "PATH_IAMC_CSV = 'C:/Users/toonv/Documents/PBL/Data/IAMC_paths_csv/'\n",
    "\n",
    "FILENAME_LIN = 'costcurve_co2_linear.dat'\n",
    "FILENAME_CUBIC = 'costcurve_co2_cubic.dat'\n",
    "FILENAME_CUBICROOT = 'costcurve_co2_cubicroot.dat'\n",
    "FILENAME_IAMC = 'iamc15_scenario_data_world_r2.0.xlsx'\n",
    "FILENAME_MEAN_TEMP = 'mean_temp.csv'\n",
    "\n",
    "df_linear = pd.read_table(PATH + FILENAME_LIN,\n",
    "                          skiprows = [0,1,2], sep = ',', names = list(range(1,27)), index_col=False)\n",
    "\n",
    "df_cubic = pd.read_table(PATH + FILENAME_CUBIC,\n",
    "                          skiprows = [0,1,2], sep = ',', names = list(range(1,27)), index_col=False)\n",
    "\n",
    "df_cubicroot = pd.read_table(PATH + FILENAME_CUBICROOT,\n",
    "                          skiprows = [0,1,2], sep = ',', names = list(range(1,27)), index_col=False)\n",
    "\n",
    "df_combined = pd.concat([df_linear, df_cubic, df_cubicroot])\n",
    "df_cubic_cubicroot = pd.concat([df_cubic, df_cubicroot]) "
   ]
  },
  {
   "cell_type": "code",
   "execution_count": 490,
   "id": "optimum-badge",
   "metadata": {},
   "outputs": [],
   "source": [
    "\"\"\"\n",
    "global variables \n",
    "\n",
    "year, region functie aanroepen waar je jaar en regio in kan vullen die alle stappen dan uitvoert.\\\\\n",
    "\n",
    "dit zijn global constants dus kan gewoon in kleine letters\n",
    "\n",
    "\"\"\"\n",
    "\n",
    "year = 2090\n",
    "region = 2\n",
    "TIMERSTEP = 10\n",
    "test_size = 0.2\n",
    "stepsize_ctax_paths = 10\n",
    "number_of_weights = 2"
   ]
  },
  {
   "cell_type": "code",
   "execution_count": 491,
   "id": "incorrect-chance",
   "metadata": {
    "scrolled": true
   },
   "outputs": [
    {
     "name": "stdout",
     "output_type": "stream",
     "text": [
      "['2020' '2030' '2040' '2050' '2060' '2070' '2080' '2090' '2100']\n"
     ]
    },
    {
     "data": {
      "text/html": [
       "<div>\n",
       "<style scoped>\n",
       "    .dataframe tbody tr th:only-of-type {\n",
       "        vertical-align: middle;\n",
       "    }\n",
       "\n",
       "    .dataframe tbody tr th {\n",
       "        vertical-align: top;\n",
       "    }\n",
       "\n",
       "    .dataframe thead th {\n",
       "        text-align: right;\n",
       "    }\n",
       "</style>\n",
       "<table border=\"1\" class=\"dataframe\">\n",
       "  <thead>\n",
       "    <tr style=\"text-align: right;\">\n",
       "      <th></th>\n",
       "      <th>2020</th>\n",
       "      <th>2030</th>\n",
       "      <th>2040</th>\n",
       "      <th>2050</th>\n",
       "      <th>2060</th>\n",
       "      <th>2070</th>\n",
       "      <th>2080</th>\n",
       "      <th>2090</th>\n",
       "      <th>reduction</th>\n",
       "    </tr>\n",
       "  </thead>\n",
       "  <tbody>\n",
       "    <tr>\n",
       "      <th>1460</th>\n",
       "      <td>0.0</td>\n",
       "      <td>2519.842100</td>\n",
       "      <td>3174.802104</td>\n",
       "      <td>3634.241186</td>\n",
       "      <td>4000.000000</td>\n",
       "      <td>4000.000000</td>\n",
       "      <td>4000.000000</td>\n",
       "      <td>4000.000000</td>\n",
       "      <td>112.871715</td>\n",
       "    </tr>\n",
       "    <tr>\n",
       "      <th>1461</th>\n",
       "      <td>0.0</td>\n",
       "      <td>2339.214191</td>\n",
       "      <td>2947.225199</td>\n",
       "      <td>3373.730661</td>\n",
       "      <td>3713.271067</td>\n",
       "      <td>4000.000000</td>\n",
       "      <td>4000.000000</td>\n",
       "      <td>4000.000000</td>\n",
       "      <td>113.759368</td>\n",
       "    </tr>\n",
       "    <tr>\n",
       "      <th>1462</th>\n",
       "      <td>0.0</td>\n",
       "      <td>2201.284833</td>\n",
       "      <td>2773.445097</td>\n",
       "      <td>3174.802104</td>\n",
       "      <td>3494.321859</td>\n",
       "      <td>3764.144116</td>\n",
       "      <td>4000.000000</td>\n",
       "      <td>4000.000000</td>\n",
       "      <td>112.908912</td>\n",
       "    </tr>\n",
       "    <tr>\n",
       "      <th>1463</th>\n",
       "      <td>0.0</td>\n",
       "      <td>2091.031834</td>\n",
       "      <td>2634.535024</td>\n",
       "      <td>3015.789765</td>\n",
       "      <td>3319.306133</td>\n",
       "      <td>3575.614140</td>\n",
       "      <td>3799.657006</td>\n",
       "      <td>4000.000000</td>\n",
       "      <td>113.248738</td>\n",
       "    </tr>\n",
       "    <tr>\n",
       "      <th>1464</th>\n",
       "      <td>0.0</td>\n",
       "      <td>2000.000000</td>\n",
       "      <td>2519.842100</td>\n",
       "      <td>2884.499141</td>\n",
       "      <td>3174.802104</td>\n",
       "      <td>3419.951893</td>\n",
       "      <td>3634.241186</td>\n",
       "      <td>3825.862366</td>\n",
       "      <td>113.109551</td>\n",
       "    </tr>\n",
       "  </tbody>\n",
       "</table>\n",
       "</div>"
      ],
      "text/plain": [
       "      2020         2030         2040         2050         2060         2070  \\\n",
       "1460   0.0  2519.842100  3174.802104  3634.241186  4000.000000  4000.000000   \n",
       "1461   0.0  2339.214191  2947.225199  3373.730661  3713.271067  4000.000000   \n",
       "1462   0.0  2201.284833  2773.445097  3174.802104  3494.321859  3764.144116   \n",
       "1463   0.0  2091.031834  2634.535024  3015.789765  3319.306133  3575.614140   \n",
       "1464   0.0  2000.000000  2519.842100  2884.499141  3174.802104  3419.951893   \n",
       "\n",
       "             2080         2090   reduction  \n",
       "1460  4000.000000  4000.000000  112.871715  \n",
       "1461  4000.000000  4000.000000  113.759368  \n",
       "1462  4000.000000  4000.000000  112.908912  \n",
       "1463  3799.657006  4000.000000  113.248738  \n",
       "1464  3634.241186  3825.862366  113.109551  "
      ]
     },
     "execution_count": 491,
     "metadata": {},
     "output_type": "execute_result"
    },
    {
     "data": {
      "image/png": "[encoded data removed]",
      "text/plain": [
       "<Figure size 432x288 with 1 Axes>"
      ]
     },
     "metadata": {
      "needs_background": "light"
     },
     "output_type": "display_data"
    }
   ],
   "source": [
    "\"\"\"\n",
    "load reductions calculated using the costcurvecooker\n",
    "\n",
    "input: csv of all reductions (prepared using organize_azure_output.py)\n",
    "        and definded ctax paths \n",
    "        \n",
    "output: pandas dataframe with ctax paths and reductions until given year\n",
    "\"\"\"\n",
    "\n",
    "reload(prepare_paths)\n",
    "\n",
    "# load reduction from azure output\n",
    "emissions = pd.read_csv('C:/Users/toonv/Documents/PBL/Data/co2tax.csv')\n",
    "years = [1971, 1981, 1991, 2001, 2011, 2021, 2031, 2041, 2051, 2061, 2071, 2081, 2091, 2100]\n",
    "columns = ['region', 'ctax_index'] + years  # dont know how to set headers for multi-index\n",
    "emissions = emissions.iloc[:, 1:]\n",
    "emissions.columns = columns\n",
    "\n",
    "year_world = 2091\n",
    "\n",
    "baseline = emissions.loc[emissions.ctax_index == 0]\n",
    "world_baseline = emissions.loc[emissions.ctax_index == 0][year_world].sum()\n",
    "\n",
    "# load ctax paths csv\n",
    "ctax_paths = pd.read_excel('C:/Users/toonv/Documents/PBL/Data/IAMC_paths/all_ctax_paths_test.xlsx', index_col=[0])\n",
    "ctax_paths.index.name = 'ctax_index'\n",
    "\n",
    "# functie met jaar en regio geeft dataframe met paths en reducties (%)\n",
    "data_for_emulator = prepare_paths.combine_azure_ctax(year, region, ctax_paths, emissions, baseline)\n",
    "data_for_emulator_world = prepare_paths.world_emulator_data(year_world, ctax_paths, emissions, world_baseline)\n",
    "\n",
    "data_1 = pd.concat([data_for_emulator_world[:310], data_for_emulator_world[1449:1464]])  #only lin cubic and root\n",
    "data_2 = data_for_emulator_world[311:970]  #only scaled IAMC\n",
    "data_3 = data_for_emulator_world[971:1448]  #only random\n",
    "\n",
    "# prepare_paths.plot_MAC(data_for_emulator)\n",
    "data_for_emulator_world.tail()"
   ]
  },
  {
   "cell_type": "code",
   "execution_count": 401,
   "id": "pharmaceutical-blocking",
   "metadata": {},
   "outputs": [
    {
     "name": "stdout",
     "output_type": "stream",
     "text": [
      "2030\n"
     ]
    },
    {
     "data": {
      "text/html": [
       "<div>\n",
       "<style scoped>\n",
       "    .dataframe tbody tr th:only-of-type {\n",
       "        vertical-align: middle;\n",
       "    }\n",
       "\n",
       "    .dataframe tbody tr th {\n",
       "        vertical-align: top;\n",
       "    }\n",
       "\n",
       "    .dataframe thead th {\n",
       "        text-align: right;\n",
       "    }\n",
       "</style>\n",
       "<table border=\"1\" class=\"dataframe\">\n",
       "  <thead>\n",
       "    <tr style=\"text-align: right;\">\n",
       "      <th></th>\n",
       "      <th>2020</th>\n",
       "      <th>2030</th>\n",
       "      <th>reduction</th>\n",
       "    </tr>\n",
       "  </thead>\n",
       "  <tbody>\n",
       "    <tr>\n",
       "      <th>196</th>\n",
       "      <td>0.0</td>\n",
       "      <td>3920.0</td>\n",
       "      <td>46.2412</td>\n",
       "    </tr>\n",
       "    <tr>\n",
       "      <th>197</th>\n",
       "      <td>0.0</td>\n",
       "      <td>3940.0</td>\n",
       "      <td>46.2706</td>\n",
       "    </tr>\n",
       "    <tr>\n",
       "      <th>198</th>\n",
       "      <td>0.0</td>\n",
       "      <td>3960.0</td>\n",
       "      <td>46.3008</td>\n",
       "    </tr>\n",
       "    <tr>\n",
       "      <th>199</th>\n",
       "      <td>0.0</td>\n",
       "      <td>3980.0</td>\n",
       "      <td>46.3321</td>\n",
       "    </tr>\n",
       "    <tr>\n",
       "      <th>200</th>\n",
       "      <td>0.0</td>\n",
       "      <td>4000.0</td>\n",
       "      <td>46.3634</td>\n",
       "    </tr>\n",
       "  </tbody>\n",
       "</table>\n",
       "</div>"
      ],
      "text/plain": [
       "     2020    2030  reduction\n",
       "196   0.0  3920.0    46.2412\n",
       "197   0.0  3940.0    46.2706\n",
       "198   0.0  3960.0    46.3008\n",
       "199   0.0  3980.0    46.3321\n",
       "200   0.0  4000.0    46.3634"
      ]
     },
     "execution_count": 401,
     "metadata": {},
     "output_type": "execute_result"
    }
   ],
   "source": [
    "\"\"\"\n",
    "prepare data using prepare_df\n",
    "\n",
    "input: MAC sets (df)\n",
    "\n",
    "output: ctax paths with reduction\n",
    "\"\"\"\n",
    "reload(prepare_CCL)\n",
    "\n",
    "lin_reduction = prepare_CCL.reduction_df(df_linear, year, region)\n",
    "cubic_reduction = prepare_CCL.reduction_df(df_cubic, year, region)\n",
    "root_reduction = prepare_CCL.reduction_df(df_cubicroot, year, region)\n",
    "\n",
    "lin_paths = prepare_CCL.find_path(lin_reduction, 'linear', TIMERSTEP)\n",
    "cubic_paths = prepare_CCL.find_path(cubic_reduction, 'cubic', TIMERSTEP)\n",
    "root_paths = prepare_CCL.find_path(root_reduction, 'cubicroot', TIMERSTEP)\n",
    "\n",
    "combi = pd.concat([cubic_paths, root_paths])\n",
    "combi.year = cubic_paths.year\n",
    "combi.region = cubic_paths.region\n",
    "\n",
    "print(combi.year)\n",
    "\n",
    "combi.tail()"
   ]
  },
  {
   "cell_type": "code",
   "execution_count": 376,
   "id": "normal-publisher",
   "metadata": {
    "scrolled": true
   },
   "outputs": [
    {
     "name": "stderr",
     "output_type": "stream",
     "text": [
      "C:\\Users\\toonv\\Documents\\PBL\\Code\\Emulator\\emulate_reduction\\emulator_v5.py:126: RuntimeWarning: divide by zero encountered in true_divide\n",
      "  delta_c_norm = delta_cs / final_ctax[:, None]\n",
      "C:\\Users\\toonv\\Documents\\PBL\\Code\\Emulator\\emulate_reduction\\emulator_v5.py:126: RuntimeWarning: invalid value encountered in true_divide\n",
      "  delta_c_norm = delta_cs / final_ctax[:, None]\n",
      "C:\\Users\\toonv\\Anaconda3\\lib\\site-packages\\numpy\\core\\_methods.py:160: RuntimeWarning: overflow encountered in reduce\n",
      "  ret = umr_sum(arr, axis, dtype, out, keepdims)\n"
     ]
    },
    {
     "name": "stdout",
     "output_type": "stream",
     "text": [
      "weights dataframe: \n",
      "             0          1  ctax\n",
      "0    0.000000   0.000000     0\n",
      "1    0.000000   0.000000   200\n",
      "2   -5.419251 -22.331713   400\n",
      "3  -10.638699 -26.969881   600\n",
      "4   -6.795803 -12.048899   800\n",
      "5   -6.713935  -8.583202  1000\n",
      "6   -1.873588 -21.145185  1200\n",
      "7   -0.296919 -20.017519  1400\n",
      "8   -0.122910  -9.941101  1600\n",
      "9   -0.306888  -8.936930  1800\n",
      "10  -2.486966  -4.393686  2000\n",
      "11   7.769437 -32.869659  2200\n",
      "12 -11.597965  12.416885  2400\n",
      "13  -0.007099  -6.531191  2600\n",
      "14   0.164643  -5.963281  2800\n",
      "15  -4.071535  -0.549512  3000\n",
      "16  -2.833388  -2.060029  3200\n",
      "17   0.572873  -5.889829  3400\n",
      "18   2.129625  -7.110515  3600\n",
      "19   0.511453  -5.212888  3800\n",
      "20   0.400651  -4.674965  4000\n"
     ]
    },
    {
     "data": {
      "image/png": "[encoded data removed]",
      "text/plain": [
       "<Figure size 432x288 with 1 Axes>"
      ]
     },
     "metadata": {
      "needs_background": "light"
     },
     "output_type": "display_data"
    }
   ],
   "source": [
    "\"\"\"\n",
    "train prepared dataframe \n",
    "\n",
    "input: ctax paths with reduction\n",
    "\n",
    "output: trained dataset\n",
    "\"\"\"\n",
    "\n",
    "reload(emulate)\n",
    "\n",
    "# x = emulate.CtaxRedEmulator(year, region, lin_paths, combi, ctax_paths, test_size)\n",
    "\n",
    "x = emulate.CtaxRedEmulator(year, region, data_for_emulator_world[0:109], data_for_emulator_world, data_for_emulator_world, ctax_paths, test_size)\n",
    "\n",
    "x.train_ctax_path(stepsize_ctax_paths, number_of_weights)   \n",
    "    \n",
    "pred = x.test_ctax_paths()\n",
    "# x.scatter_and_mac(pred)\n",
    "\n"
   ]
  },
  {
   "cell_type": "code",
   "execution_count": 597,
   "id": "devoted-storage",
   "metadata": {
    "scrolled": true
   },
   "outputs": [],
   "source": [
    "reload(emulate)\n",
    "\n",
    "x = emulate.CtaxRedEmulator(year, region, lin_paths, data_for_emulator_world, data_for_emulator_world, ctax_paths, test_size)\n",
    "\n",
    "# multi linear regression model\n",
    "multi_lin_regr_mod = x.train_ctax_MLR()\n",
    "# x.scatter_and_mac(multi_lin_regr_mod)\n",
    "\n",
    "# # polynomial regression model\n",
    "# degree = 3\n",
    "# poly_regr_mod = x.train_ctax_PR(degree)\n",
    "\n",
    "# # # Ridge regression\n",
    "# alpha = 1\n",
    "# ridge_mod = x.train_ctax_ridge(alpha)\n",
    "\n",
    "# # lasso regression\n",
    "# alpha = 1\n",
    "# lasso_mod = x.train_ctax_lasso(alpha)\n",
    "# lasso_plot = x.test_regr(lasso_mod)\n",
    "\n",
    "# Regression tree\n",
    "# max_depth = 5\n",
    "# regr_tree = x.train_ctax_tree(max_depth)\n",
    "\n",
    "# # Random forest\n",
    "# regr_forest = x.train_ctax_forest(max_depth)\n",
    "# # forest_plot = x.test_regr(regr_forest)\n",
    "# # x.scatter_and_mac(regr_forest)\n",
    "\n",
    "# # SVM\n",
    "# svm_regr = x.train_SVM()\n",
    "# svm_plot = x.test_regr(svm_regr)\n",
    "# x.scatter_and_mac(svm_regr)\n",
    "\n",
    "# # MLPRegressor\n",
    "# MLP_regr = x.train_MLPRegressor()\n",
    "# MLP_plot = x.test_regr(MLP_regr)\n",
    "\n",
    "# TensorFlow\n",
    "# TF_regr = x.train_TF()\n",
    "\n"
   ]
  },
  {
   "cell_type": "code",
   "execution_count": 598,
   "id": "seven-commonwealth",
   "metadata": {},
   "outputs": [
    {
     "data": {
      "image/png": "[encoded data removed]",
      "text/plain": [
       "<Figure size 792x266.4 with 1 Axes>"
      ]
     },
     "metadata": {
      "needs_background": "light"
     },
     "output_type": "display_data"
    },
    {
     "data": {
      "image/png": "[encoded data removed]",
      "text/plain": [
       "<Figure size 216x144 with 1 Axes>"
      ]
     },
     "metadata": {
      "needs_background": "light"
     },
     "output_type": "display_data"
    }
   ],
   "source": [
    "\"\"\"\n",
    "RMSE and R-squared dataframe\n",
    "\"\"\"\n",
    "score = x.score()\n",
    "score.to_clipboard(excel=True)\n",
    "x.pred_vs_true()"
   ]
  },
  {
   "cell_type": "code",
   "execution_count": 599,
   "id": "eastern-learning",
   "metadata": {},
   "outputs": [
    {
     "ename": "AttributeError",
     "evalue": "'CtaxRedEmulator' object has no attribute 'calc_miti_emu_2'",
     "output_type": "error",
     "traceback": [
      "\u001b[1;31m---------------------------------------------------------------------------\u001b[0m",
      "\u001b[1;31mAttributeError\u001b[0m                            Traceback (most recent call last)",
      "\u001b[1;32m<ipython-input-599-95b18afee058>\u001b[0m in \u001b[0;36m<module>\u001b[1;34m\u001b[0m\n\u001b[1;32m----> 1\u001b[1;33m \u001b[0mx\u001b[0m\u001b[1;33m.\u001b[0m\u001b[0mcalc_miti_emu_2\u001b[0m\u001b[1;33m(\u001b[0m\u001b[0mworld_baseline\u001b[0m\u001b[1;33m,\u001b[0m \u001b[1;36m40\u001b[0m\u001b[1;33m)\u001b[0m\u001b[1;33m\u001b[0m\u001b[1;33m\u001b[0m\u001b[0m\n\u001b[0m",
      "\u001b[1;31mAttributeError\u001b[0m: 'CtaxRedEmulator' object has no attribute 'calc_miti_emu_2'"
     ]
    }
   ],
   "source": [
    "x.calc_miti_emu(world_baseline, 40)"
   ]
  },
  {
   "cell_type": "code",
   "execution_count": 497,
   "id": "saving-gossip",
   "metadata": {},
   "outputs": [
    {
     "data": {
      "text/html": [
       "<div>\n",
       "<style scoped>\n",
       "    .dataframe tbody tr th:only-of-type {\n",
       "        vertical-align: middle;\n",
       "    }\n",
       "\n",
       "    .dataframe tbody tr th {\n",
       "        vertical-align: top;\n",
       "    }\n",
       "\n",
       "    .dataframe thead th {\n",
       "        text-align: right;\n",
       "    }\n",
       "</style>\n",
       "<table border=\"1\" class=\"dataframe\">\n",
       "  <thead>\n",
       "    <tr style=\"text-align: right;\">\n",
       "      <th></th>\n",
       "      <th>region</th>\n",
       "      <th>ctax_index</th>\n",
       "      <th>1971</th>\n",
       "      <th>1981</th>\n",
       "      <th>1991</th>\n",
       "      <th>2001</th>\n",
       "      <th>2011</th>\n",
       "      <th>2021</th>\n",
       "      <th>2031</th>\n",
       "      <th>2041</th>\n",
       "      <th>2051</th>\n",
       "      <th>2061</th>\n",
       "      <th>2071</th>\n",
       "      <th>2081</th>\n",
       "      <th>2091</th>\n",
       "      <th>2100</th>\n",
       "    </tr>\n",
       "  </thead>\n",
       "  <tbody>\n",
       "    <tr>\n",
       "      <th>0</th>\n",
       "      <td>1</td>\n",
       "      <td>0</td>\n",
       "      <td>8.969030e+10</td>\n",
       "      <td>1.117960e+11</td>\n",
       "      <td>1.169163e+11</td>\n",
       "      <td>1.406543e+11</td>\n",
       "      <td>1.487516e+11</td>\n",
       "      <td>1.577254e+11</td>\n",
       "      <td>1.564376e+11</td>\n",
       "      <td>1.496844e+11</td>\n",
       "      <td>1.536143e+11</td>\n",
       "      <td>1.411263e+11</td>\n",
       "      <td>1.459626e+11</td>\n",
       "      <td>1.584969e+11</td>\n",
       "      <td>1.367588e+11</td>\n",
       "      <td>1.192841e+11</td>\n",
       "    </tr>\n",
       "    <tr>\n",
       "      <th>1</th>\n",
       "      <td>2</td>\n",
       "      <td>0</td>\n",
       "      <td>1.110139e+12</td>\n",
       "      <td>1.245669e+12</td>\n",
       "      <td>1.299780e+12</td>\n",
       "      <td>1.512515e+12</td>\n",
       "      <td>1.474906e+12</td>\n",
       "      <td>1.395895e+12</td>\n",
       "      <td>1.345834e+12</td>\n",
       "      <td>1.350751e+12</td>\n",
       "      <td>1.349900e+12</td>\n",
       "      <td>1.162343e+12</td>\n",
       "      <td>1.081553e+12</td>\n",
       "      <td>1.027938e+12</td>\n",
       "      <td>9.156419e+11</td>\n",
       "      <td>8.441872e+11</td>\n",
       "    </tr>\n",
       "    <tr>\n",
       "      <th>2</th>\n",
       "      <td>3</td>\n",
       "      <td>0</td>\n",
       "      <td>3.019588e+10</td>\n",
       "      <td>6.728479e+10</td>\n",
       "      <td>8.076364e+10</td>\n",
       "      <td>1.000094e+11</td>\n",
       "      <td>1.319134e+11</td>\n",
       "      <td>1.435511e+11</td>\n",
       "      <td>1.534017e+11</td>\n",
       "      <td>1.534467e+11</td>\n",
       "      <td>1.620830e+11</td>\n",
       "      <td>1.694773e+11</td>\n",
       "      <td>1.819841e+11</td>\n",
       "      <td>2.092976e+11</td>\n",
       "      <td>1.786412e+11</td>\n",
       "      <td>1.634706e+11</td>\n",
       "    </tr>\n",
       "    <tr>\n",
       "      <th>3</th>\n",
       "      <td>4</td>\n",
       "      <td>0</td>\n",
       "      <td>2.121353e+10</td>\n",
       "      <td>2.690361e+10</td>\n",
       "      <td>2.661901e+10</td>\n",
       "      <td>3.867272e+10</td>\n",
       "      <td>4.919659e+10</td>\n",
       "      <td>5.919332e+10</td>\n",
       "      <td>7.899564e+10</td>\n",
       "      <td>1.014549e+11</td>\n",
       "      <td>1.167633e+11</td>\n",
       "      <td>1.318694e+11</td>\n",
       "      <td>1.619545e+11</td>\n",
       "      <td>1.960358e+11</td>\n",
       "      <td>1.838207e+11</td>\n",
       "      <td>1.764025e+11</td>\n",
       "    </tr>\n",
       "    <tr>\n",
       "      <th>4</th>\n",
       "      <td>5</td>\n",
       "      <td>0</td>\n",
       "      <td>2.441268e+10</td>\n",
       "      <td>5.178711e+10</td>\n",
       "      <td>6.683297e+10</td>\n",
       "      <td>9.672262e+10</td>\n",
       "      <td>1.356199e+11</td>\n",
       "      <td>1.484881e+11</td>\n",
       "      <td>1.507030e+11</td>\n",
       "      <td>1.502721e+11</td>\n",
       "      <td>1.356940e+11</td>\n",
       "      <td>1.318862e+11</td>\n",
       "      <td>1.561332e+11</td>\n",
       "      <td>1.684530e+11</td>\n",
       "      <td>1.338708e+11</td>\n",
       "      <td>1.120747e+11</td>\n",
       "    </tr>\n",
       "  </tbody>\n",
       "</table>\n",
       "</div>"
      ],
      "text/plain": [
       "   region  ctax_index          1971          1981          1991          2001  \\\n",
       "0       1           0  8.969030e+10  1.117960e+11  1.169163e+11  1.406543e+11   \n",
       "1       2           0  1.110139e+12  1.245669e+12  1.299780e+12  1.512515e+12   \n",
       "2       3           0  3.019588e+10  6.728479e+10  8.076364e+10  1.000094e+11   \n",
       "3       4           0  2.121353e+10  2.690361e+10  2.661901e+10  3.867272e+10   \n",
       "4       5           0  2.441268e+10  5.178711e+10  6.683297e+10  9.672262e+10   \n",
       "\n",
       "           2011          2021          2031          2041          2051  \\\n",
       "0  1.487516e+11  1.577254e+11  1.564376e+11  1.496844e+11  1.536143e+11   \n",
       "1  1.474906e+12  1.395895e+12  1.345834e+12  1.350751e+12  1.349900e+12   \n",
       "2  1.319134e+11  1.435511e+11  1.534017e+11  1.534467e+11  1.620830e+11   \n",
       "3  4.919659e+10  5.919332e+10  7.899564e+10  1.014549e+11  1.167633e+11   \n",
       "4  1.356199e+11  1.484881e+11  1.507030e+11  1.502721e+11  1.356940e+11   \n",
       "\n",
       "           2061          2071          2081          2091          2100  \n",
       "0  1.411263e+11  1.459626e+11  1.584969e+11  1.367588e+11  1.192841e+11  \n",
       "1  1.162343e+12  1.081553e+12  1.027938e+12  9.156419e+11  8.441872e+11  \n",
       "2  1.694773e+11  1.819841e+11  2.092976e+11  1.786412e+11  1.634706e+11  \n",
       "3  1.318694e+11  1.619545e+11  1.960358e+11  1.838207e+11  1.764025e+11  \n",
       "4  1.318862e+11  1.561332e+11  1.684530e+11  1.338708e+11  1.120747e+11  "
      ]
     },
     "execution_count": 497,
     "metadata": {},
     "output_type": "execute_result"
    },
    {
     "data": {
      "image/png": "[encoded data removed]",
      "text/plain": [
       "<Figure size 432x288 with 1 Axes>"
      ]
     },
     "metadata": {
      "needs_background": "light"
     },
     "output_type": "display_data"
    }
   ],
   "source": [
    "\"\"\"\n",
    "emulate miti costs and compare to TIMER == TRUE \n",
    "\"\"\"\n",
    "reload(emulate)\n",
    "reload(prepare_paths)\n",
    "\n",
    "# load TIMER miticosts set\n",
    "miti_timer = pd.read_csv('C:/Users/toonv/Documents/PBL/Data/random_scaled_mym/co2tax.csv', index_col=0)\n",
    "columns = ['region', 'ctax_index'] + years\n",
    "miti_timer.columns = columns\n",
    "ctax_paths_miti = pd.read_excel('C:/Users/toonv/Documents/PBL/Data/random_scaled_mym/scaled_random.xlsx', index_col=[0])\n",
    "ctax_paths_miti.index.name = 'ctax_index' \n",
    "compare_miti = prepare_paths.combine_azure_ctax(year, region, ctax_paths_miti, miti_timer, baseline)\n",
    "\n",
    "emu_method = 'SVM'\n",
    "step_ctax = 40\n",
    "# x.calc_miti_costs(emu_method, region, step_ctax, miti_timer, baseline, compare_miti)\n",
    "\n",
    "miti_timer.head()\n"
   ]
  },
  {
   "cell_type": "code",
   "execution_count": 498,
   "id": "compatible-ensemble",
   "metadata": {},
   "outputs": [
    {
     "ename": "ValueError",
     "evalue": "matmul: Input operand 1 has a mismatch in its core dimension 0, with gufunc signature (n?,k),(k,m?)->(n?,m?) (size 165 is different from 8)",
     "output_type": "error",
     "traceback": [
      "\u001b[1;31m---------------------------------------------------------------------------\u001b[0m",
      "\u001b[1;31mValueError\u001b[0m                                Traceback (most recent call last)",
      "\u001b[1;32m<ipython-input-498-cc6e21eaac32>\u001b[0m in \u001b[0;36m<module>\u001b[1;34m\u001b[0m\n\u001b[0;32m      1\u001b[0m \u001b[1;31m# all seperate scaled random df's\u001b[0m\u001b[1;33m\u001b[0m\u001b[1;33m\u001b[0m\u001b[1;33m\u001b[0m\u001b[0m\n\u001b[0;32m      2\u001b[0m \u001b[0mx\u001b[0m\u001b[1;33m.\u001b[0m\u001b[0mcalc_miti_timer\u001b[0m\u001b[1;33m(\u001b[0m\u001b[0mctax_paths_miti\u001b[0m\u001b[1;33m,\u001b[0m \u001b[0mcompare_miti\u001b[0m\u001b[1;33m,\u001b[0m \u001b[0mbaseline\u001b[0m\u001b[1;33m)\u001b[0m\u001b[1;33m\u001b[0m\u001b[1;33m\u001b[0m\u001b[0m\n\u001b[1;32m----> 3\u001b[1;33m \u001b[0mx\u001b[0m\u001b[1;33m.\u001b[0m\u001b[0mcalc_miti_emu\u001b[0m\u001b[1;33m(\u001b[0m\u001b[0mctax_paths_miti\u001b[0m\u001b[1;33m,\u001b[0m \u001b[0mcompare_miti\u001b[0m\u001b[1;33m,\u001b[0m \u001b[0mbaseline\u001b[0m\u001b[1;33m)\u001b[0m\u001b[1;33m\u001b[0m\u001b[1;33m\u001b[0m\u001b[0m\n\u001b[0m\u001b[0;32m      4\u001b[0m \u001b[0mx\u001b[0m\u001b[1;33m.\u001b[0m\u001b[0mplot_timer_vs_emu\u001b[0m\u001b[1;33m(\u001b[0m\u001b[1;33m)\u001b[0m\u001b[1;33m\u001b[0m\u001b[1;33m\u001b[0m\u001b[0m\n",
      "\u001b[1;32m~\\Documents\\PBL\\Code\\Emulator\\emulate_reduction\\emulator_v5.py\u001b[0m in \u001b[0;36mcalc_miti_emu\u001b[1;34m(self, ctax_paths, timer_data, baseline)\u001b[0m\n\u001b[0;32m    694\u001b[0m         \u001b[1;32mfor\u001b[0m \u001b[0mdf\u001b[0m \u001b[1;32min\u001b[0m \u001b[0msplitted_df\u001b[0m\u001b[1;33m:\u001b[0m\u001b[1;33m\u001b[0m\u001b[1;33m\u001b[0m\u001b[0m\n\u001b[0;32m    695\u001b[0m             \u001b[0mpaths\u001b[0m \u001b[1;33m=\u001b[0m \u001b[0mdf\u001b[0m\u001b[1;33m.\u001b[0m\u001b[0mdrop\u001b[0m\u001b[1;33m(\u001b[0m\u001b[1;34m'reduction'\u001b[0m\u001b[1;33m,\u001b[0m \u001b[0maxis\u001b[0m\u001b[1;33m=\u001b[0m\u001b[1;36m1\u001b[0m\u001b[1;33m)\u001b[0m\u001b[1;33m\u001b[0m\u001b[1;33m\u001b[0m\u001b[0m\n\u001b[1;32m--> 696\u001b[1;33m             \u001b[0mreductions\u001b[0m \u001b[1;33m=\u001b[0m \u001b[0mself\u001b[0m\u001b[1;33m.\u001b[0m\u001b[0mpr\u001b[0m\u001b[1;33m.\u001b[0m\u001b[0mpredict\u001b[0m\u001b[1;33m(\u001b[0m\u001b[0mpaths\u001b[0m\u001b[1;33m)\u001b[0m\u001b[1;33m\u001b[0m\u001b[1;33m\u001b[0m\u001b[0m\n\u001b[0m\u001b[0;32m    697\u001b[0m \u001b[1;31m#            reductions = self.svm.predict(paths)\u001b[0m\u001b[1;33m\u001b[0m\u001b[1;33m\u001b[0m\u001b[1;33m\u001b[0m\u001b[0m\n\u001b[0;32m    698\u001b[0m             \u001b[0mpaths\u001b[0m\u001b[1;33m[\u001b[0m\u001b[1;34m'emu reduction'\u001b[0m\u001b[1;33m]\u001b[0m \u001b[1;33m=\u001b[0m \u001b[0mreductions\u001b[0m\u001b[1;33m\u001b[0m\u001b[1;33m\u001b[0m\u001b[0m\n",
      "\u001b[1;32m~\\Anaconda3\\lib\\site-packages\\sklearn\\linear_model\\_base.py\u001b[0m in \u001b[0;36mpredict\u001b[1;34m(self, X)\u001b[0m\n\u001b[0;32m    234\u001b[0m             \u001b[0mReturns\u001b[0m \u001b[0mpredicted\u001b[0m \u001b[0mvalues\u001b[0m\u001b[1;33m.\u001b[0m\u001b[1;33m\u001b[0m\u001b[1;33m\u001b[0m\u001b[0m\n\u001b[0;32m    235\u001b[0m         \"\"\"\n\u001b[1;32m--> 236\u001b[1;33m         \u001b[1;32mreturn\u001b[0m \u001b[0mself\u001b[0m\u001b[1;33m.\u001b[0m\u001b[0m_decision_function\u001b[0m\u001b[1;33m(\u001b[0m\u001b[0mX\u001b[0m\u001b[1;33m)\u001b[0m\u001b[1;33m\u001b[0m\u001b[1;33m\u001b[0m\u001b[0m\n\u001b[0m\u001b[0;32m    237\u001b[0m \u001b[1;33m\u001b[0m\u001b[0m\n\u001b[0;32m    238\u001b[0m     \u001b[0m_preprocess_data\u001b[0m \u001b[1;33m=\u001b[0m \u001b[0mstaticmethod\u001b[0m\u001b[1;33m(\u001b[0m\u001b[0m_preprocess_data\u001b[0m\u001b[1;33m)\u001b[0m\u001b[1;33m\u001b[0m\u001b[1;33m\u001b[0m\u001b[0m\n",
      "\u001b[1;32m~\\Anaconda3\\lib\\site-packages\\sklearn\\linear_model\\_base.py\u001b[0m in \u001b[0;36m_decision_function\u001b[1;34m(self, X)\u001b[0m\n\u001b[0;32m    218\u001b[0m         \u001b[0mX\u001b[0m \u001b[1;33m=\u001b[0m \u001b[0mcheck_array\u001b[0m\u001b[1;33m(\u001b[0m\u001b[0mX\u001b[0m\u001b[1;33m,\u001b[0m \u001b[0maccept_sparse\u001b[0m\u001b[1;33m=\u001b[0m\u001b[1;33m[\u001b[0m\u001b[1;34m'csr'\u001b[0m\u001b[1;33m,\u001b[0m \u001b[1;34m'csc'\u001b[0m\u001b[1;33m,\u001b[0m \u001b[1;34m'coo'\u001b[0m\u001b[1;33m]\u001b[0m\u001b[1;33m)\u001b[0m\u001b[1;33m\u001b[0m\u001b[1;33m\u001b[0m\u001b[0m\n\u001b[0;32m    219\u001b[0m         return safe_sparse_dot(X, self.coef_.T,\n\u001b[1;32m--> 220\u001b[1;33m                                dense_output=True) + self.intercept_\n\u001b[0m\u001b[0;32m    221\u001b[0m \u001b[1;33m\u001b[0m\u001b[0m\n\u001b[0;32m    222\u001b[0m     \u001b[1;32mdef\u001b[0m \u001b[0mpredict\u001b[0m\u001b[1;33m(\u001b[0m\u001b[0mself\u001b[0m\u001b[1;33m,\u001b[0m \u001b[0mX\u001b[0m\u001b[1;33m)\u001b[0m\u001b[1;33m:\u001b[0m\u001b[1;33m\u001b[0m\u001b[1;33m\u001b[0m\u001b[0m\n",
      "\u001b[1;32m~\\Anaconda3\\lib\\site-packages\\sklearn\\utils\\validation.py\u001b[0m in \u001b[0;36minner_f\u001b[1;34m(*args, **kwargs)\u001b[0m\n\u001b[0;32m     70\u001b[0m                           FutureWarning)\n\u001b[0;32m     71\u001b[0m         \u001b[0mkwargs\u001b[0m\u001b[1;33m.\u001b[0m\u001b[0mupdate\u001b[0m\u001b[1;33m(\u001b[0m\u001b[1;33m{\u001b[0m\u001b[0mk\u001b[0m\u001b[1;33m:\u001b[0m \u001b[0marg\u001b[0m \u001b[1;32mfor\u001b[0m \u001b[0mk\u001b[0m\u001b[1;33m,\u001b[0m \u001b[0marg\u001b[0m \u001b[1;32min\u001b[0m \u001b[0mzip\u001b[0m\u001b[1;33m(\u001b[0m\u001b[0msig\u001b[0m\u001b[1;33m.\u001b[0m\u001b[0mparameters\u001b[0m\u001b[1;33m,\u001b[0m \u001b[0margs\u001b[0m\u001b[1;33m)\u001b[0m\u001b[1;33m}\u001b[0m\u001b[1;33m)\u001b[0m\u001b[1;33m\u001b[0m\u001b[1;33m\u001b[0m\u001b[0m\n\u001b[1;32m---> 72\u001b[1;33m         \u001b[1;32mreturn\u001b[0m \u001b[0mf\u001b[0m\u001b[1;33m(\u001b[0m\u001b[1;33m**\u001b[0m\u001b[0mkwargs\u001b[0m\u001b[1;33m)\u001b[0m\u001b[1;33m\u001b[0m\u001b[1;33m\u001b[0m\u001b[0m\n\u001b[0m\u001b[0;32m     73\u001b[0m     \u001b[1;32mreturn\u001b[0m \u001b[0minner_f\u001b[0m\u001b[1;33m\u001b[0m\u001b[1;33m\u001b[0m\u001b[0m\n\u001b[0;32m     74\u001b[0m \u001b[1;33m\u001b[0m\u001b[0m\n",
      "\u001b[1;32m~\\Anaconda3\\lib\\site-packages\\sklearn\\utils\\extmath.py\u001b[0m in \u001b[0;36msafe_sparse_dot\u001b[1;34m(a, b, dense_output)\u001b[0m\n\u001b[0;32m    151\u001b[0m             \u001b[0mret\u001b[0m \u001b[1;33m=\u001b[0m \u001b[0mnp\u001b[0m\u001b[1;33m.\u001b[0m\u001b[0mdot\u001b[0m\u001b[1;33m(\u001b[0m\u001b[0ma\u001b[0m\u001b[1;33m,\u001b[0m \u001b[0mb\u001b[0m\u001b[1;33m)\u001b[0m\u001b[1;33m\u001b[0m\u001b[1;33m\u001b[0m\u001b[0m\n\u001b[0;32m    152\u001b[0m     \u001b[1;32melse\u001b[0m\u001b[1;33m:\u001b[0m\u001b[1;33m\u001b[0m\u001b[1;33m\u001b[0m\u001b[0m\n\u001b[1;32m--> 153\u001b[1;33m         \u001b[0mret\u001b[0m \u001b[1;33m=\u001b[0m \u001b[0ma\u001b[0m \u001b[1;33m@\u001b[0m \u001b[0mb\u001b[0m\u001b[1;33m\u001b[0m\u001b[1;33m\u001b[0m\u001b[0m\n\u001b[0m\u001b[0;32m    154\u001b[0m \u001b[1;33m\u001b[0m\u001b[0m\n\u001b[0;32m    155\u001b[0m     if (sparse.issparse(a) and sparse.issparse(b)\n",
      "\u001b[1;31mValueError\u001b[0m: matmul: Input operand 1 has a mismatch in its core dimension 0, with gufunc signature (n?,k),(k,m?)->(n?,m?) (size 165 is different from 8)"
     ]
    }
   ],
   "source": [
    "# all seperate scaled random df's\n",
    "x.calc_miti_timer(ctax_paths_miti, compare_miti, baseline)\n",
    "x.calc_miti_emu(ctax_paths_miti, compare_miti, baseline)\n",
    "x.plot_timer_vs_emu()"
   ]
  },
  {
   "cell_type": "code",
   "execution_count": 499,
   "id": "pharmaceutical-korea",
   "metadata": {},
   "outputs": [
    {
     "ename": "KeyError",
     "evalue": "\"None of [Index(['2020', '2030'], dtype='object')] are in the [index]\"",
     "output_type": "error",
     "traceback": [
      "\u001b[1;31m---------------------------------------------------------------------------\u001b[0m",
      "\u001b[1;31mKeyError\u001b[0m                                  Traceback (most recent call last)",
      "\u001b[1;32m<ipython-input-499-93c39bcfb55a>\u001b[0m in \u001b[0;36m<module>\u001b[1;34m\u001b[0m\n\u001b[1;32m----> 1\u001b[1;33m \u001b[0mx\u001b[0m\u001b[1;33m.\u001b[0m\u001b[0mcalc_miti_emu_2\u001b[0m\u001b[1;33m(\u001b[0m\u001b[0mworld_baseline\u001b[0m\u001b[1;33m)\u001b[0m\u001b[1;33m\u001b[0m\u001b[1;33m\u001b[0m\u001b[0m\n\u001b[0m",
      "\u001b[1;32m~\\Documents\\PBL\\Code\\Emulator\\emulate_reduction\\emulator_v5.py\u001b[0m in \u001b[0;36mcalc_miti_emu_2\u001b[1;34m(self, baseline)\u001b[0m\n\u001b[0;32m    707\u001b[0m     \u001b[1;32mdef\u001b[0m \u001b[0mcalc_miti_emu_2\u001b[0m\u001b[1;33m(\u001b[0m\u001b[0mself\u001b[0m\u001b[1;33m,\u001b[0m \u001b[0mbaseline\u001b[0m\u001b[1;33m)\u001b[0m\u001b[1;33m:\u001b[0m\u001b[1;33m\u001b[0m\u001b[1;33m\u001b[0m\u001b[0m\n\u001b[0;32m    708\u001b[0m \u001b[1;33m\u001b[0m\u001b[0m\n\u001b[1;32m--> 709\u001b[1;33m         \u001b[0mprint\u001b[0m\u001b[1;33m(\u001b[0m\u001b[0mself\u001b[0m\u001b[1;33m.\u001b[0m\u001b[0myears\u001b[0m\u001b[1;33m)\u001b[0m\u001b[1;33m\u001b[0m\u001b[1;33m\u001b[0m\u001b[0m\n\u001b[0m\u001b[0;32m    710\u001b[0m \u001b[1;33m\u001b[0m\u001b[0m\n\u001b[0;32m    711\u001b[0m         \u001b[0mpaths_only\u001b[0m \u001b[1;33m=\u001b[0m \u001b[0mself\u001b[0m\u001b[1;33m.\u001b[0m\u001b[0mdf_test\u001b[0m\u001b[1;33m.\u001b[0m\u001b[0mloc\u001b[0m\u001b[1;33m[\u001b[0m\u001b[0mself\u001b[0m\u001b[1;33m.\u001b[0m\u001b[0myears\u001b[0m\u001b[1;33m]\u001b[0m\u001b[1;33m\u001b[0m\u001b[1;33m\u001b[0m\u001b[0m\n",
      "\u001b[1;32m~\\Anaconda3\\lib\\site-packages\\pandas\\core\\indexing.py\u001b[0m in \u001b[0;36m__getitem__\u001b[1;34m(self, key)\u001b[0m\n\u001b[0;32m    893\u001b[0m \u001b[1;33m\u001b[0m\u001b[0m\n\u001b[0;32m    894\u001b[0m             \u001b[0mmaybe_callable\u001b[0m \u001b[1;33m=\u001b[0m \u001b[0mcom\u001b[0m\u001b[1;33m.\u001b[0m\u001b[0mapply_if_callable\u001b[0m\u001b[1;33m(\u001b[0m\u001b[0mkey\u001b[0m\u001b[1;33m,\u001b[0m \u001b[0mself\u001b[0m\u001b[1;33m.\u001b[0m\u001b[0mobj\u001b[0m\u001b[1;33m)\u001b[0m\u001b[1;33m\u001b[0m\u001b[1;33m\u001b[0m\u001b[0m\n\u001b[1;32m--> 895\u001b[1;33m             \u001b[1;32mreturn\u001b[0m \u001b[0mself\u001b[0m\u001b[1;33m.\u001b[0m\u001b[0m_getitem_axis\u001b[0m\u001b[1;33m(\u001b[0m\u001b[0mmaybe_callable\u001b[0m\u001b[1;33m,\u001b[0m \u001b[0maxis\u001b[0m\u001b[1;33m=\u001b[0m\u001b[0maxis\u001b[0m\u001b[1;33m)\u001b[0m\u001b[1;33m\u001b[0m\u001b[1;33m\u001b[0m\u001b[0m\n\u001b[0m\u001b[0;32m    896\u001b[0m \u001b[1;33m\u001b[0m\u001b[0m\n\u001b[0;32m    897\u001b[0m     \u001b[1;32mdef\u001b[0m \u001b[0m_is_scalar_access\u001b[0m\u001b[1;33m(\u001b[0m\u001b[0mself\u001b[0m\u001b[1;33m,\u001b[0m \u001b[0mkey\u001b[0m\u001b[1;33m:\u001b[0m \u001b[0mTuple\u001b[0m\u001b[1;33m)\u001b[0m\u001b[1;33m:\u001b[0m\u001b[1;33m\u001b[0m\u001b[1;33m\u001b[0m\u001b[0m\n",
      "\u001b[1;32m~\\Anaconda3\\lib\\site-packages\\pandas\\core\\indexing.py\u001b[0m in \u001b[0;36m_getitem_axis\u001b[1;34m(self, key, axis)\u001b[0m\n\u001b[0;32m   1111\u001b[0m                     \u001b[1;32mraise\u001b[0m \u001b[0mValueError\u001b[0m\u001b[1;33m(\u001b[0m\u001b[1;34m\"Cannot index with multidimensional key\"\u001b[0m\u001b[1;33m)\u001b[0m\u001b[1;33m\u001b[0m\u001b[1;33m\u001b[0m\u001b[0m\n\u001b[0;32m   1112\u001b[0m \u001b[1;33m\u001b[0m\u001b[0m\n\u001b[1;32m-> 1113\u001b[1;33m                 \u001b[1;32mreturn\u001b[0m \u001b[0mself\u001b[0m\u001b[1;33m.\u001b[0m\u001b[0m_getitem_iterable\u001b[0m\u001b[1;33m(\u001b[0m\u001b[0mkey\u001b[0m\u001b[1;33m,\u001b[0m \u001b[0maxis\u001b[0m\u001b[1;33m=\u001b[0m\u001b[0maxis\u001b[0m\u001b[1;33m)\u001b[0m\u001b[1;33m\u001b[0m\u001b[1;33m\u001b[0m\u001b[0m\n\u001b[0m\u001b[0;32m   1114\u001b[0m \u001b[1;33m\u001b[0m\u001b[0m\n\u001b[0;32m   1115\u001b[0m             \u001b[1;31m# nested tuple slicing\u001b[0m\u001b[1;33m\u001b[0m\u001b[1;33m\u001b[0m\u001b[1;33m\u001b[0m\u001b[0m\n",
      "\u001b[1;32m~\\Anaconda3\\lib\\site-packages\\pandas\\core\\indexing.py\u001b[0m in \u001b[0;36m_getitem_iterable\u001b[1;34m(self, key, axis)\u001b[0m\n\u001b[0;32m   1051\u001b[0m \u001b[1;33m\u001b[0m\u001b[0m\n\u001b[0;32m   1052\u001b[0m         \u001b[1;31m# A collection of keys\u001b[0m\u001b[1;33m\u001b[0m\u001b[1;33m\u001b[0m\u001b[1;33m\u001b[0m\u001b[0m\n\u001b[1;32m-> 1053\u001b[1;33m         \u001b[0mkeyarr\u001b[0m\u001b[1;33m,\u001b[0m \u001b[0mindexer\u001b[0m \u001b[1;33m=\u001b[0m \u001b[0mself\u001b[0m\u001b[1;33m.\u001b[0m\u001b[0m_get_listlike_indexer\u001b[0m\u001b[1;33m(\u001b[0m\u001b[0mkey\u001b[0m\u001b[1;33m,\u001b[0m \u001b[0maxis\u001b[0m\u001b[1;33m,\u001b[0m \u001b[0mraise_missing\u001b[0m\u001b[1;33m=\u001b[0m\u001b[1;32mFalse\u001b[0m\u001b[1;33m)\u001b[0m\u001b[1;33m\u001b[0m\u001b[1;33m\u001b[0m\u001b[0m\n\u001b[0m\u001b[0;32m   1054\u001b[0m         return self.obj._reindex_with_indexers(\n\u001b[0;32m   1055\u001b[0m             \u001b[1;33m{\u001b[0m\u001b[0maxis\u001b[0m\u001b[1;33m:\u001b[0m \u001b[1;33m[\u001b[0m\u001b[0mkeyarr\u001b[0m\u001b[1;33m,\u001b[0m \u001b[0mindexer\u001b[0m\u001b[1;33m]\u001b[0m\u001b[1;33m}\u001b[0m\u001b[1;33m,\u001b[0m \u001b[0mcopy\u001b[0m\u001b[1;33m=\u001b[0m\u001b[1;32mTrue\u001b[0m\u001b[1;33m,\u001b[0m \u001b[0mallow_dups\u001b[0m\u001b[1;33m=\u001b[0m\u001b[1;32mTrue\u001b[0m\u001b[1;33m\u001b[0m\u001b[1;33m\u001b[0m\u001b[0m\n",
      "\u001b[1;32m~\\Anaconda3\\lib\\site-packages\\pandas\\core\\indexing.py\u001b[0m in \u001b[0;36m_get_listlike_indexer\u001b[1;34m(self, key, axis, raise_missing)\u001b[0m\n\u001b[0;32m   1264\u001b[0m             \u001b[0mkeyarr\u001b[0m\u001b[1;33m,\u001b[0m \u001b[0mindexer\u001b[0m\u001b[1;33m,\u001b[0m \u001b[0mnew_indexer\u001b[0m \u001b[1;33m=\u001b[0m \u001b[0max\u001b[0m\u001b[1;33m.\u001b[0m\u001b[0m_reindex_non_unique\u001b[0m\u001b[1;33m(\u001b[0m\u001b[0mkeyarr\u001b[0m\u001b[1;33m)\u001b[0m\u001b[1;33m\u001b[0m\u001b[1;33m\u001b[0m\u001b[0m\n\u001b[0;32m   1265\u001b[0m \u001b[1;33m\u001b[0m\u001b[0m\n\u001b[1;32m-> 1266\u001b[1;33m         \u001b[0mself\u001b[0m\u001b[1;33m.\u001b[0m\u001b[0m_validate_read_indexer\u001b[0m\u001b[1;33m(\u001b[0m\u001b[0mkeyarr\u001b[0m\u001b[1;33m,\u001b[0m \u001b[0mindexer\u001b[0m\u001b[1;33m,\u001b[0m \u001b[0maxis\u001b[0m\u001b[1;33m,\u001b[0m \u001b[0mraise_missing\u001b[0m\u001b[1;33m=\u001b[0m\u001b[0mraise_missing\u001b[0m\u001b[1;33m)\u001b[0m\u001b[1;33m\u001b[0m\u001b[1;33m\u001b[0m\u001b[0m\n\u001b[0m\u001b[0;32m   1267\u001b[0m         \u001b[1;32mreturn\u001b[0m \u001b[0mkeyarr\u001b[0m\u001b[1;33m,\u001b[0m \u001b[0mindexer\u001b[0m\u001b[1;33m\u001b[0m\u001b[1;33m\u001b[0m\u001b[0m\n\u001b[0;32m   1268\u001b[0m \u001b[1;33m\u001b[0m\u001b[0m\n",
      "\u001b[1;32m~\\Anaconda3\\lib\\site-packages\\pandas\\core\\indexing.py\u001b[0m in \u001b[0;36m_validate_read_indexer\u001b[1;34m(self, key, indexer, axis, raise_missing)\u001b[0m\n\u001b[0;32m   1306\u001b[0m             \u001b[1;32mif\u001b[0m \u001b[0mmissing\u001b[0m \u001b[1;33m==\u001b[0m \u001b[0mlen\u001b[0m\u001b[1;33m(\u001b[0m\u001b[0mindexer\u001b[0m\u001b[1;33m)\u001b[0m\u001b[1;33m:\u001b[0m\u001b[1;33m\u001b[0m\u001b[1;33m\u001b[0m\u001b[0m\n\u001b[0;32m   1307\u001b[0m                 \u001b[0maxis_name\u001b[0m \u001b[1;33m=\u001b[0m \u001b[0mself\u001b[0m\u001b[1;33m.\u001b[0m\u001b[0mobj\u001b[0m\u001b[1;33m.\u001b[0m\u001b[0m_get_axis_name\u001b[0m\u001b[1;33m(\u001b[0m\u001b[0maxis\u001b[0m\u001b[1;33m)\u001b[0m\u001b[1;33m\u001b[0m\u001b[1;33m\u001b[0m\u001b[0m\n\u001b[1;32m-> 1308\u001b[1;33m                 \u001b[1;32mraise\u001b[0m \u001b[0mKeyError\u001b[0m\u001b[1;33m(\u001b[0m\u001b[1;34mf\"None of [{key}] are in the [{axis_name}]\"\u001b[0m\u001b[1;33m)\u001b[0m\u001b[1;33m\u001b[0m\u001b[1;33m\u001b[0m\u001b[0m\n\u001b[0m\u001b[0;32m   1309\u001b[0m \u001b[1;33m\u001b[0m\u001b[0m\n\u001b[0;32m   1310\u001b[0m             \u001b[0max\u001b[0m \u001b[1;33m=\u001b[0m \u001b[0mself\u001b[0m\u001b[1;33m.\u001b[0m\u001b[0mobj\u001b[0m\u001b[1;33m.\u001b[0m\u001b[0m_get_axis\u001b[0m\u001b[1;33m(\u001b[0m\u001b[0maxis\u001b[0m\u001b[1;33m)\u001b[0m\u001b[1;33m\u001b[0m\u001b[1;33m\u001b[0m\u001b[0m\n",
      "\u001b[1;31mKeyError\u001b[0m: \"None of [Index(['2020', '2030'], dtype='object')] are in the [index]\""
     ]
    }
   ],
   "source": []
  },
  {
   "cell_type": "code",
   "execution_count": null,
   "id": "cardiovascular-comparative",
   "metadata": {},
   "outputs": [],
   "source": []
  }
 ],
 "metadata": {
  "kernelspec": {
   "display_name": "Python 3",
   "language": "python",
   "name": "python3"
  },
  "language_info": {
   "codemirror_mode": {
    "name": "ipython",
    "version": 3
   },
   "file_extension": ".py",
   "mimetype": "text/x-python",
   "name": "python",
   "nbconvert_exporter": "python",
   "pygments_lexer": "ipython3",
   "version": "3.7.1"
  }
 },
 "nbformat": 4,
 "nbformat_minor": 5
}
