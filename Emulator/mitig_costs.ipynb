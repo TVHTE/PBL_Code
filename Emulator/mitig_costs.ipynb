{
 "cells": [
  {
   "cell_type": "code",
   "execution_count": 2,
   "id": "rubber-metallic",
   "metadata": {},
   "outputs": [
    {
     "data": {
      "text/plain": [
       "['__builtins__',\n",
       " '__cached__',\n",
       " '__doc__',\n",
       " '__file__',\n",
       " '__loader__',\n",
       " '__name__',\n",
       " '__package__',\n",
       " '__spec__',\n",
       " 'colors',\n",
       " 'combine_azure_ctax',\n",
       " 'np',\n",
       " 'os',\n",
       " 'output_costs_timer',\n",
       " 'pd',\n",
       " 'plot_MAC',\n",
       " 'plt',\n",
       " 'prepare_data',\n",
       " 'pym',\n",
       " 'truncate_colormap',\n",
       " 'world_MAC_data']"
      ]
     },
     "execution_count": 2,
     "metadata": {},
     "output_type": "execute_result"
    }
   ],
   "source": [
    "\"\"\"\n",
    "import modules\n",
    "\"\"\"\n",
    "\n",
    "from prepare_data import prepare_df_from_mac_5_year as prepare_CCL\n",
    "from prepare_data import prepare_paths as prepare_paths\n",
    "from emulate_reduction import emulator_v4 as emulate\n",
    "from visualize_output import vis_emulator_v1 as v1_plot\n",
    "from pym import pym\n",
    "\n",
    "import pandas as pd\n",
    "import numpy as np\n",
    "import matplotlib.pyplot as plt\n",
    "from importlib import reload\n",
    "import os\n",
    "\n",
    "dir(prepare_paths)"
   ]
  },
  {
   "cell_type": "code",
   "execution_count": 4,
   "id": "hazardous-hudson",
   "metadata": {},
   "outputs": [],
   "source": [
    "PATH = 'C:/Users/toonv/Documents/PBL/Data/cost curves/'\n",
    "PATH_IAMC = 'C:/Users/toonv/Documents/PBL/Data/IAMC_paths/'\n",
    "PATH_IAMC_MYM = 'C:/Users/toonv/Documents/PBL/Data/IAMC_paths_mym/'\n",
    "PATH_IAMC_CSV = 'C:/Users/toonv/Documents/PBL/Data/IAMC_paths_csv/'\n",
    "\n",
    "FILENAME_IAMC = 'iamc15_scenario_data_world_r2.0.xlsx'\n",
    "FILENAME_MEAN_TEMP = 'mean_temp.csv'\n",
    "\n",
    "IAMC_database = pd.read_excel(PATH_IAMC + FILENAME_IAMC, sheet_name='data')"
   ]
  },
  {
   "cell_type": "code",
   "execution_count": 9,
   "id": "eight-psychiatry",
   "metadata": {},
   "outputs": [
    {
     "name": "stdout",
     "output_type": "stream",
     "text": [
      "costs:  4.165051e+12\n",
      "costs:  1.213160e+12\n"
     ]
    },
    {
     "data": {
      "image/png": "[encoded data removed]",
      "text/plain": [
       "<Figure size 432x288 with 1 Axes>"
      ]
     },
     "metadata": {
      "needs_background": "light"
     },
     "output_type": "display_data"
    }
   ],
   "source": [
    "\"\"\"\n",
    "Calculating mitigation costs using multiple methods:\n",
    "\n",
    "    1.OG method\n",
    "    2.Tree method\n",
    "    3.From TIMER output variables\n",
    "    \n",
    "\"\"\"\n",
    "\n",
    "reload(prepare_paths)\n",
    "\n",
    "year = 2100\n",
    "\n",
    "# MAC construction for lin and tree method\n",
    "lin_paths = pd.read_csv('C:/Users/toonv/Documents/PBL/Data/costs_paths_csv/lin_pahts.csv', index_col=[0])\n",
    "tree_paths = pd.read_csv('C:/Users/toonv/Documents/PBL/Data/costs_paths_csv/tree_pahts.csv', index_col=[0])\n",
    "\n",
    "years = [1971, 1981, 1991, 2001, 2011, 2021, 2031, 2041, 2051, 2061, 2071, 2081, 2091, 2100]\n",
    "columns = ['region', 'ctax_index'] + years  # dont know how to set headers for multi-index\n",
    "\n",
    "emissions_lin = pd.read_csv('C:/Users/toonv/Documents/PBL/Data/paths_costs/lin_results/co2tax.csv', index_col=[0])\n",
    "emissions_lin.columns = columns\n",
    "emissions_tree = pd.read_csv('C:/Users/toonv/Documents/PBL/Data/paths_costs/tree_results/co2tax.csv', index_col=[0])\n",
    "emissions_tree.columns = columns\n",
    "\n",
    "baseline = emissions_lin.loc[emissions_lin.ctax_index == 0]\n",
    "world_baseline = emissions_lin.loc[emissions_lin.ctax_index == 0][year].sum()\n",
    "\n",
    "EU_lin_MAC = prepare_paths.combine_azure_ctax(2100, 11, lin_paths, emissions_lin, baseline)\n",
    "EU_tree_MAC = prepare_paths.combine_azure_ctax(2100, 11, tree_paths, emissions_tree, baseline)\n",
    "\n",
    "VS_lin_MAC = prepare_paths.combine_azure_ctax(2100, 2, lin_paths, emissions_lin, baseline)\n",
    "VS_tree_MAC = prepare_paths.combine_azure_ctax(2100, 2, tree_paths, emissions_tree, baseline)\n",
    "\n",
    "BR_lin_MAC = prepare_paths.combine_azure_ctax(2100, 4, lin_paths, emissions_lin, baseline)\n",
    "BR_tree_MAC = prepare_paths.combine_azure_ctax(2100, 4, tree_paths, emissions_tree, baseline)\n",
    "\n",
    "world_lin_MAC = prepare_paths.world_MAC_data(2100, lin_paths, emissions_lin, world_baseline)\n",
    "world_tree_MAC = prepare_paths.world_MAC_data(2100, tree_paths, emissions_tree, world_baseline)\n",
    "\n",
    "# prepare_paths.plot_MAC(EU_lin_MAC, 'EU')\n",
    "# prepare_paths.plot_MAC(EU_tree_MAC, 'EU')\n",
    "# prepare_paths.plot_MAC(VS_lin_MAC, 'VS')\n",
    "# prepare_paths.plot_MAC(VS_tree_MAC, 'VS')\n",
    "# prepare_paths.plot_MAC(BR_lin_MAC, 'BR lin', 'Blues')\n",
    "# prepare_paths.plot_MAC(BR_tree_MAC, 'BR tree', 'Oranges')\n",
    "prepare_paths.plot_MAC(world_lin_MAC, 'world lin', 'Blues')\n",
    "prepare_paths.plot_MAC(world_tree_MAC, 'world tree', 'Oranges')\n",
    "\n",
    "# en de variabelen stacked graph \n",
    "t_system_cost_tree = pd.read_csv('C:/Users/toonv/Documents/PBL/Data/paths_costs/tree_results/TotalSystemCost.csv', index_col=[0])\n",
    "t_system_cost_rel_tree = pd.read_csv('C:/Users/toonv/Documents/PBL/Data/paths_costs/tree_results/TotalSystemCostRel.csv', index_col=[0])\n",
    "\n",
    "t_system_cost_lin = pd.read_csv('C:/Users/toonv/Documents/PBL/Data/paths_costs/lin_results/TotalSystemCost.csv', index_col=[0])\n",
    "t_system_cost_rel_lin = pd.read_csv('C:/Users/toonv/Documents/PBL/Data/paths_costs/lin_results/TotalSystemCostRel.csv', index_col=[0])\n",
    "\n",
    "baseline_system_cost = t_system_cost_lin.loc[t_system_cost_lin.region == 27]\n",
    "\n",
    "# tree_table = prepare_paths.output_costs_timer(t_system_cost_tree, t_system_cost_rel_tree,\n",
    "#                                               year, 27, tree_paths, baseline_system_cost)\n",
    "\n",
    "# tree_table.to_excel('C:/Users/toonv/Documents/PBL/Data/paths_costs/tree_results/tree_table.xlsx')\n",
    "                    \n",
    "# lin_table = prepare_paths.output_costs_timer(t_system_cost_lin, t_system_cost_rel_lin,\n",
    "#                                              year, 27, lin_paths, baseline_system_cost)\n",
    "                    \n",
    "# lin_table.to_excel('C:/Users/toonv/Documents/PBL/Data/paths_costs/lin_results/lin_table.xlsx')\n"
   ]
  },
  {
   "cell_type": "code",
   "execution_count": 10,
   "id": "threaded-sleeping",
   "metadata": {},
   "outputs": [
    {
     "name": "stdout",
     "output_type": "stream",
     "text": [
      "29498140341930.0\n",
      "201500573746680.0\n",
      "48089945197690.0\n",
      "48110972824000.0\n",
      "9402128286030.0\n",
      "8365245104634.8\n",
      "44091763640650.0\n",
      "38895219210040.0\n",
      "21453433997091.0\n",
      "465475307129320.0\n",
      "[29498140341930.0, 201500573746680.0, 48089945197690.0, 48110972824000.0, 9402128286030.0, 8365245104634.8, 44091763640650.0, 38895219210040.0, 21453433997091.0, 465475307129320.0]\n"
     ]
    },
    {
     "data": {
      "text/plain": [
       "([<matplotlib.patches.Wedge at 0x20f791654e0>,\n",
       "  <matplotlib.patches.Wedge at 0x20f791659e8>,\n",
       "  <matplotlib.patches.Wedge at 0x20f79165e80>,\n",
       "  <matplotlib.patches.Wedge at 0x20f7916a358>,\n",
       "  <matplotlib.patches.Wedge at 0x20f7916a7f0>,\n",
       "  <matplotlib.patches.Wedge at 0x20f7916ac88>,\n",
       "  <matplotlib.patches.Wedge at 0x20f79176160>,\n",
       "  <matplotlib.patches.Wedge at 0x20f791765f8>,\n",
       "  <matplotlib.patches.Wedge at 0x20f79176a90>,\n",
       "  <matplotlib.patches.Wedge at 0x20f79176f28>],\n",
       " [Text(1.0943616832037257, 0.11123176855336056, 'Coal'),\n",
       "  Text(0.6884881042290625, 0.8578951744444492, 'Oil'),\n",
       "  Text(-0.19777636406342566, 1.082074170201771, 'NG'),\n",
       "  Text(-0.538071456308553, 0.9594160244158908, 'Li BioFuel'),\n",
       "  Text(-0.7158606422619802, 0.8351907212489045, 'So BioFuel'),\n",
       "  Text(-0.7654528788239373, 0.7899885380815008, 'Nuclear'),\n",
       "  Text(-0.894601026742926, 0.6400695297782131, 'Elec'),\n",
       "  Text(-1.0384626119348745, 0.36276080771411656, 'Hydrogen'),\n",
       "  Text(-1.0908822649366396, 0.14133606774884924, 'Storage'),\n",
       "  Text(-0.030342527890524565, -1.0995814344564085, 'End-use')])"
      ]
     },
     "execution_count": 10,
     "metadata": {},
     "output_type": "execute_result"
    },
    {
     "data": {
      "image/png": "[encoded data removed]",
      "text/plain": [
       "<Figure size 432x288 with 1 Axes>"
      ]
     },
     "metadata": {},
     "output_type": "display_data"
    }
   ],
   "source": [
    "table = pd.read_table('C:/Users/toonv/Documents/PBL/Data/paths_costs/lin_results/TCostTot.dat', sep = ',', names = ['onecol'], index_col=False)\n",
    "years = [2100]\n",
    "table.iloc[0] = 1971\n",
    "year_indices = [table.loc[table['onecol'] == str(year)].index.values for year in years]\n",
    "# year_indices = year_indices[1:]  # start from second index to skip year \n",
    "\n",
    "table.iloc[-1] = 2.582932e+14\n",
    "\n",
    "shares = []\n",
    "\n",
    "for count, year_index in enumerate(year_indices):\n",
    "    year_index = year_index[0]\n",
    "    column = years[count]\n",
    "    first_column = table[year_index:year_index+29]  #all first 28 values all regions\n",
    "    first_col = sum(np.array(first_column['onecol'][1:].values).astype(float))  #skip the first row which is year\n",
    "    \n",
    "    print(first_col)\n",
    "    \n",
    "    shares.append(first_col)\n",
    "    \n",
    "    for i in range(29, 281, 28):\n",
    "        sum_column = sum(np.array(table[year_index+i:year_index+i+28]['onecol'].values).astype(float))\n",
    "        \n",
    "        print(sum_column)\n",
    "        \n",
    "        shares.append(sum_column)\n",
    "\n",
    "print(shares)\n",
    "\n",
    "plt.pie(shares, labels=['Coal', 'Oil', 'NG', 'Li BioFuel', 'So BioFuel', 'Nuclear', 'Elec', 'Hydrogen', 'Storage', 'End-use'])\n"
   ]
  },
  {
   "cell_type": "code",
   "execution_count": null,
   "id": "concrete-airport",
   "metadata": {},
   "outputs": [],
   "source": [
    "\"\"\"\n",
    "stacked graph for baseline and mitigation scenario, \n",
    "show over time how each element is changing\n",
    "\"\"\""
   ]
  }
 ],
 "metadata": {
  "kernelspec": {
   "display_name": "Python 3",
   "language": "python",
   "name": "python3"
  },
  "language_info": {
   "codemirror_mode": {
    "name": "ipython",
    "version": 3
   },
   "file_extension": ".py",
   "mimetype": "text/x-python",
   "name": "python",
   "nbconvert_exporter": "python",
   "pygments_lexer": "ipython3",
   "version": "3.7.1"
  }
 },
 "nbformat": 4,
 "nbformat_minor": 5
}
